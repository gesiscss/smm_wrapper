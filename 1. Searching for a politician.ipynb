{
 "cells": [
  {
   "cell_type": "code",
   "execution_count": null,
   "metadata": {},
   "outputs": [],
   "source": [
    "from IPython.display import display, Markdown as md\n",
    "display(md(f\"# Social Media Monitoring\"))\n",
    "display(md(f\"***Search for a Politician***\"))"
   ]
  },
  {
   "cell_type": "code",
   "execution_count": null,
   "metadata": {},
   "outputs": [],
   "source": [
    "from ipywidgets import widgets, Output\n",
    "from IPython.display import display, clear_output\n",
    "import os\n",
    "from smm_wrapper import SMM\n",
    "smm = SMM()\n",
    "\n",
    "\n",
    "# the method that listens to the click event\n",
    "def on_button_clicked(b):\n",
    "    global politician\n",
    "    \n",
    "    # use the out widget so the output is overwritten when two or more\n",
    "    # searches are performed\n",
    "    with out:\n",
    "        try:\n",
    "            # query wikipedia\n",
    "            politician = smm.api.politician_search(names_contain=searchTerm.value)\n",
    "            politician = politician[0]\n",
    "            %store politician\n",
    "            clear_output()\n",
    "            display('1st result found: {} {}'.format(politician['firstname'], politician['name']))\n",
    "\n",
    "        except:\n",
    "            clear_output()\n",
    "            display(md(f'The politician *\"{searchTerm.value}\"* was not found'))\n",
    "\n",
    "# by default display the last search\n",
    "try:\n",
    "    searchTerm = widgets.Text(politician[['name'],['firstname']], description='Politician')\n",
    "except:\n",
    "    searchTerm = widgets.Text(\"Riedelsdorf\", description='Politician')\n",
    "\n",
    "# create and display the button    \n",
    "button = widgets.Button(description=\"Search\")\n",
    "#example = md(\"e.g. *Angela Merkel*\")\n",
    "display(searchTerm, button)\n",
    "\n",
    "# the output widge is used to remove the output after the search field\n",
    "out = Output()\n",
    "display(out)\n",
    "\n",
    "# set the event\n",
    "button.on_click(on_button_clicked)\n",
    "\n",
    "# trigger the event with the default value\n",
    "on_button_clicked(button)"
   ]
  },
  {
   "cell_type": "code",
   "execution_count": null,
   "metadata": {},
   "outputs": [],
   "source": [
    "#from notebooks import get_next_notebook\n",
    "#from IPython.display import HTML\n",
    "#display(HTML(f'<a href=\"{get_next_notebook()}\" target=\"_blank\">Go to next workbook</a>'))"
   ]
  },
  {
   "cell_type": "code",
   "execution_count": null,
   "metadata": {},
   "outputs": [],
   "source": [
    "display(politician['politician_id'])"
   ]
  },
  {
   "cell_type": "code",
   "execution_count": null,
   "metadata": {},
   "outputs": [],
   "source": []
  }
 ],
 "metadata": {
  "kernelspec": {
   "display_name": "Python 3",
   "language": "python",
   "name": "python3"
  },
  "language_info": {
   "codemirror_mode": {
    "name": "ipython",
    "version": 3
   },
   "file_extension": ".py",
   "mimetype": "text/x-python",
   "name": "python",
   "nbconvert_exporter": "python",
   "pygments_lexer": "ipython3",
   "version": "3.7.3"
  }
 },
 "nbformat": 4,
 "nbformat_minor": 2
}
