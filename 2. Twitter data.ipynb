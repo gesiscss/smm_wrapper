{
 "cells": [
  {
   "cell_type": "code",
   "execution_count": 64,
   "metadata": {},
   "outputs": [
    {
     "name": "stdout",
     "output_type": "stream",
     "text": [
      "The autoreload extension is already loaded. To reload it, use:\n",
      "  %reload_ext autoreload\n"
     ]
    }
   ],
   "source": [
    "%load_ext autoreload\n",
    "%autoreload 2\n",
    "%store -r politician\n",
    "import os\n",
    "from smm_wrapper import SMM\n",
    "from IPython.display import display, clear_output\n",
    "smm = SMM()\n",
    "\n",
    "if 'politician' not in locals():\n",
    "    politician = smm.api.politician_search(names_contain='Riedelsdorf')\n",
    "    clear_output()\n",
    "    politician = politician[0]\n",
    "\n",
    "#make a null check\n",
    "tweets_by_politician = smm.api.tweets_by(politician_id=politician['politician_id'])\n",
    "\n",
    "import datetime as dt\n",
    "from dateutil.rrule import rrule, MONTHLY\n",
    "from datetime import datetime\n",
    "\n",
    "def months(start_month, start_year, end_month, end_year):\n",
    "    start = datetime(start_year, start_month, 1)\n",
    "    end = datetime(end_year, end_month, 1)\n",
    "    return [(d.year, d.month, d.day) for d in rrule(MONTHLY, dtstart=start, until=end)]\n",
    "\n",
    "dates = months(9, 2017, 2, 2019)\n",
    "for i, result in enumerate(dates):\n",
    "    dates[i] = dt.date(year=result[0], month=result[1], day=result[2])"
   ]
  },
  {
   "cell_type": "code",
   "execution_count": 75,
   "metadata": {},
   "outputs": [
    {
     "ename": "ModuleNotFoundError",
     "evalue": "No module named 'bokeh'",
     "output_type": "error",
     "traceback": [
      "\u001b[0;31m---------------------------------------------------------------------------\u001b[0m",
      "\u001b[0;31mModuleNotFoundError\u001b[0m                       Traceback (most recent call last)",
      "\u001b[0;32m<ipython-input-75-769ab218a1e4>\u001b[0m in \u001b[0;36m<module>\u001b[0;34m\u001b[0m\n\u001b[1;32m      1\u001b[0m \u001b[0;34m\u001b[0m\u001b[0m\n\u001b[0;32m----> 2\u001b[0;31m \u001b[0;32mfrom\u001b[0m \u001b[0mbokeh\u001b[0m\u001b[0;34m.\u001b[0m\u001b[0mio\u001b[0m \u001b[0;32mimport\u001b[0m \u001b[0mpush_notebook\u001b[0m\u001b[0;34m,\u001b[0m \u001b[0mshow\u001b[0m\u001b[0;34m,\u001b[0m \u001b[0moutput_notebook\u001b[0m\u001b[0;34m\u001b[0m\u001b[0;34m\u001b[0m\u001b[0m\n\u001b[0m\u001b[1;32m      3\u001b[0m \u001b[0;32mfrom\u001b[0m \u001b[0mbokeh\u001b[0m\u001b[0;34m.\u001b[0m\u001b[0mplotting\u001b[0m \u001b[0;32mimport\u001b[0m \u001b[0mfigure\u001b[0m\u001b[0;34m\u001b[0m\u001b[0;34m\u001b[0m\u001b[0m\n\u001b[1;32m      4\u001b[0m \u001b[0;32mimport\u001b[0m \u001b[0mpandas\u001b[0m \u001b[0;32mas\u001b[0m \u001b[0mpd\u001b[0m\u001b[0;34m\u001b[0m\u001b[0;34m\u001b[0m\u001b[0m\n\u001b[1;32m      5\u001b[0m \u001b[0;31m#from plotly.offline import init_notebook_mode, iplot\u001b[0m\u001b[0;34m\u001b[0m\u001b[0;34m\u001b[0m\u001b[0;34m\u001b[0m\u001b[0m\n",
      "\u001b[0;31mModuleNotFoundError\u001b[0m: No module named 'bokeh'"
     ]
    }
   ],
   "source": [
    "from bokeh.io import push_notebook, show, output_notebook\n",
    "from bokeh.plotting import figure\n",
    "import pandas as pd\n",
    "#from plotly.offline import init_notebook_mode, iplot\n",
    "#from plotly.graph_objs import *\n",
    "\n",
    "def listen(begin, end, aggregation):\n",
    "\n",
    "        if begin < end or begin == end:\n",
    "            variable = 0\n",
    "\n",
    "        elif begin > end:\n",
    "            variable = end\n",
    "            end = begin\n",
    "            begin = variable\n",
    "        else:\n",
    "            variable = 1\n",
    "            print('Can not be the case!')\n",
    "\n",
    "        filtered_tweets = smm.api.tweets_by(politician_id=politician['politician_id'], \n",
    "                                            from_date=begin, to_date=end, aggregate_by=aggregation)\n",
    "        x = filtered_tweets['values']\n",
    "        y = filtered_tweets['labels']\n",
    "        p = figure(title=\"twitter example\", plot_height=300, plot_width=600, \n",
    "                   y_range=(min(filtered_tweets['values']), max(filtered_tweets['values'])),\n",
    "                   background_fill_color='#efefef')\n",
    "        r = p.line(x, y, color=\"#8888cc\", line_width=1.5, alpha=0.8)\n",
    "        push_notebook()\n",
    "        show(p, notebook_handle=True)\n",
    "\n",
    "        # Plot Graph\n",
    "        #views = list(groupped_df.views)\n",
    "        #month = list(groupped_df.timestamp)\n",
    "\n",
    "        #trace1 = graph_objs.Scatter(\n",
    "            #x=month, y=views,\n",
    "            #mode='lines+markers', name='Views',\n",
    "            #marker=dict(color='rgba(0, 128, 43, .8)')\n",
    "        #)\n",
    "\n",
    "        #layout = graph_objs.Layout(hovermode='closest',\n",
    "                                   #xaxis=dict(title=granularity, ticklen=5,\n",
    "                                              #zeroline=True, gridwidth=2),\n",
    "                                   #yaxis=dict(title='Views',\n",
    "                                              #ticklen=5, gridwidth=2),\n",
    "                                   #legend=dict(x=0.5, y=1.2),\n",
    "                                   #showlegend=False)\n",
    "\n",
    "        #data = [trace1]\n",
    "\n",
    "        #plotly.offline.init_notebook_mode(connected=True)\n",
    "        #plotly.offline.iplot({\"data\": data, \"layout\": layout})\n",
    "\n",
    "        #self.df_plotted = groupped_df"
   ]
  },
  {
   "cell_type": "code",
   "execution_count": 76,
   "metadata": {},
   "outputs": [
    {
     "data": {
      "application/vnd.jupyter.widget-view+json": {
       "model_id": "4fa4e6dfa4264186ba29478306d057ac",
       "version_major": 2,
       "version_minor": 0
      },
      "text/plain": [
       "interactive(children=(Dropdown(description='begin', options=(datetime.date(2017, 9, 1), datetime.date(2017, 10…"
      ]
     },
     "metadata": {},
     "output_type": "display_data"
    }
   ],
   "source": [
    "from ipywidgets import interact\n",
    "from ipywidgets.widgets import Dropdown\n",
    "\n",
    "interact(listen, begin = Dropdown(options=dates),\n",
    "         end = Dropdown(options=dates, value=dates[-1]),\n",
    "         aggregation=Dropdown(options=['month', 'week', 'day'], value='month'));\n"
   ]
  },
  {
   "cell_type": "code",
   "execution_count": null,
   "metadata": {},
   "outputs": [],
   "source": [
    "from ipywidgets import interact\n",
    "from ipywidgets.widgets import Dropdown"
   ]
  }
 ],
 "metadata": {
  "kernelspec": {
   "display_name": "Python 3",
   "language": "python",
   "name": "python3"
  },
  "language_info": {
   "codemirror_mode": {
    "name": "ipython",
    "version": 3
   },
   "file_extension": ".py",
   "mimetype": "text/x-python",
   "name": "python",
   "nbconvert_exporter": "python",
   "pygments_lexer": "ipython3",
   "version": "3.6.7"
  }
 },
 "nbformat": 4,
 "nbformat_minor": 2
}
