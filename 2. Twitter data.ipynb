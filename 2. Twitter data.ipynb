{
 "cells": [
  {
   "cell_type": "code",
   "execution_count": 1,
   "metadata": {},
   "outputs": [
    {
     "data": {
      "text/markdown": [
       "# Social Media Monitoring"
      ],
      "text/plain": [
       "<IPython.core.display.Markdown object>"
      ]
     },
     "metadata": {},
     "output_type": "display_data"
    },
    {
     "data": {
      "text/markdown": [
       "***Search for a Politician***"
      ],
      "text/plain": [
       "<IPython.core.display.Markdown object>"
      ]
     },
     "metadata": {},
     "output_type": "display_data"
    }
   ],
   "source": [
    "from IPython.display import display, Markdown as md\n",
    "display(md(f\"# Social Media Monitoring\"))\n",
    "display(md(f\"***Search for a Politician***\"))"
   ]
  },
  {
   "cell_type": "code",
   "execution_count": 1,
   "metadata": {},
   "outputs": [
    {
     "data": {
      "application/vnd.jupyter.widget-view+json": {
       "model_id": "60ddc21f49584d74b6c8996a764c335d",
       "version_major": 2,
       "version_minor": 0
      },
      "text/plain": [
       "Text(value='Riedelsdorf', description='Politician')"
      ]
     },
     "metadata": {},
     "output_type": "display_data"
    },
    {
     "data": {
      "application/vnd.jupyter.widget-view+json": {
       "model_id": "533c2389c7e346fe965d9b5ff586f67a",
       "version_major": 2,
       "version_minor": 0
      },
      "text/plain": [
       "Button(description='Search', style=ButtonStyle())"
      ]
     },
     "metadata": {},
     "output_type": "display_data"
    },
    {
     "data": {
      "application/vnd.jupyter.widget-view+json": {
       "model_id": "74b3fc3d5ac64a5b87bc4e9e9c192bcf",
       "version_major": 2,
       "version_minor": 0
      },
      "text/plain": [
       "Output()"
      ]
     },
     "metadata": {},
     "output_type": "display_data"
    }
   ],
   "source": [
    "from ipywidgets import widgets, Output\n",
    "from IPython.display import display, clear_output\n",
    "import os\n",
    "from smm_wrapper import SMM\n",
    "smm = SMM()\n",
    "\n",
    "\n",
    "# the method that listens to the click event\n",
    "def on_button_clicked(b):\n",
    "    global politician\n",
    "    \n",
    "    # use the out widget so the output is overwritten when two or more\n",
    "    # searches are performed\n",
    "    with out:\n",
    "        try:\n",
    "            # query wikipedia\n",
    "            politician = smm.api.politician_search(names_contain=searchTerm.value)\n",
    "            politician = politician[0]\n",
    "            %store politician\n",
    "            clear_output()\n",
    "            display('1st result found: {} {}'.format(politician['firstname'], politician['name']))\n",
    "\n",
    "        except:\n",
    "            clear_output()\n",
    "            display(md(f'The politician *\"{searchTerm.value}\"* was not found'))\n",
    "\n",
    "# by default display the last search\n",
    "try:\n",
    "    searchTerm = widgets.Text(politician[['name'],['firstname']], description='Politician')\n",
    "except:\n",
    "    searchTerm = widgets.Text(\"Riedelsdorf\", description='Politician')\n",
    "\n",
    "# create and display the button    \n",
    "button = widgets.Button(description=\"Search\")\n",
    "#example = md(\"e.g. *Angela Merkel*\")\n",
    "display(searchTerm, button)\n",
    "\n",
    "# the output widge is used to remove the output after the search field\n",
    "out = Output()\n",
    "display(out)\n",
    "\n",
    "# set the event\n",
    "button.on_click(on_button_clicked)\n",
    "\n",
    "# trigger the event with the default value\n",
    "on_button_clicked(button)"
   ]
  },
  {
   "cell_type": "code",
   "execution_count": null,
   "metadata": {},
   "outputs": [],
   "source": [
    "display(md(f\"***Twitter data***\"))"
   ]
  },
  {
   "cell_type": "code",
   "execution_count": 3,
   "metadata": {},
   "outputs": [],
   "source": [
    "#make a null check\n",
    "tweets_by_politician = smm.api.tweets_by(politician_id=politician['politician_id'])\n",
    "\n",
    "import datetime as dt\n",
    "from dateutil.rrule import rrule, MONTHLY\n",
    "from datetime import datetime\n",
    "\n",
    "def months(start_month, start_year, end_month, end_year):\n",
    "    start = datetime(start_year, start_month, 1)\n",
    "    end = datetime(end_year, end_month, 1)\n",
    "    return [(d.year, d.month, d.day) for d in rrule(MONTHLY, dtstart=start, until=end)]\n",
    "\n",
    "dates = months(9, 2017, 2, 2019)\n",
    "for i, result in enumerate(dates):\n",
    "    dates[i] = dt.date(year=result[0], month=result[1], day=result[2])"
   ]
  },
  {
   "cell_type": "code",
   "execution_count": 5,
   "metadata": {},
   "outputs": [
    {
     "name": "stderr",
     "output_type": "stream",
     "text": [
      "UsageError: Line magic function `%install` not found.\n"
     ]
    }
   ],
   "source": [
    "from bokeh.io import push_notebook, show, output_notebook\n",
    "from bokeh.plotting import figure\n",
    "import pandas as pd\n",
    "#from plotly.offline import init_notebook_mode, iplot\n",
    "#from plotly.graph_objs import *\n",
    "\n",
    "def listen(begin, end, aggregation):\n",
    "\n",
    "        if begin < end or begin == end:\n",
    "            variable = 0\n",
    "\n",
    "        elif begin > end:\n",
    "            variable = end\n",
    "            end = begin\n",
    "            begin = variable\n",
    "        else:\n",
    "            variable = 1\n",
    "            print('Can not be the case!')\n",
    "\n",
    "        filtered_tweets = smm.api.tweets_by(politician_id=politician['politician_id'], \n",
    "                                            from_date=begin, to_date=end, aggregate_by=aggregation)\n",
    "        x = filtered_tweets['values']\n",
    "        y = filtered_tweets['labels']\n",
    "        p = figure(title=\"twitter example\", plot_height=300, plot_width=600, \n",
    "                   y_range=(min(filtered_tweets['values']), max(filtered_tweets['values'])),\n",
    "                   background_fill_color='#efefef')\n",
    "        r = p.line(x, y, color=\"#8888cc\", line_width=1.5, alpha=0.8)\n",
    "        push_notebook()\n",
    "        show(p, notebook_handle=True)\n",
    "\n",
    "        # Plot Graph\n",
    "        #views = list(groupped_df.views)\n",
    "        #month = list(groupped_df.timestamp)\n",
    "\n",
    "        #trace1 = graph_objs.Scatter(\n",
    "            #x=month, y=views,\n",
    "            #mode='lines+markers', name='Views',\n",
    "            #marker=dict(color='rgba(0, 128, 43, .8)')\n",
    "        #)\n",
    "\n",
    "        #layout = graph_objs.Layout(hovermode='closest',\n",
    "                                   #xaxis=dict(title=granularity, ticklen=5,\n",
    "                                              #zeroline=True, gridwidth=2),\n",
    "                                   #yaxis=dict(title='Views',\n",
    "                                              #ticklen=5, gridwidth=2),\n",
    "                                   #legend=dict(x=0.5, y=1.2),\n",
    "                                   #showlegend=False)\n",
    "\n",
    "        #data = [trace1]\n",
    "\n",
    "        #plotly.offline.init_notebook_mode(connected=True)\n",
    "        #plotly.offline.iplot({\"data\": data, \"layout\": layout})\n",
    "\n",
    "        #self.df_plotted = groupped_df"
   ]
  },
  {
   "cell_type": "code",
   "execution_count": 76,
   "metadata": {},
   "outputs": [
    {
     "data": {
      "application/vnd.jupyter.widget-view+json": {
       "model_id": "4fa4e6dfa4264186ba29478306d057ac",
       "version_major": 2,
       "version_minor": 0
      },
      "text/plain": [
       "interactive(children=(Dropdown(description='begin', options=(datetime.date(2017, 9, 1), datetime.date(2017, 10…"
      ]
     },
     "metadata": {},
     "output_type": "display_data"
    }
   ],
   "source": [
    "from ipywidgets import interact\n",
    "from ipywidgets.widgets import Dropdown\n",
    "\n",
    "interact(listen, begin = Dropdown(options=dates),\n",
    "         end = Dropdown(options=dates, value=dates[-1]),\n",
    "         aggregation=Dropdown(options=['month', 'week', 'day'], value='month'));\n"
   ]
  },
  {
   "cell_type": "code",
   "execution_count": null,
   "metadata": {},
   "outputs": [],
   "source": [
    "from ipywidgets import interact\n",
    "from ipywidgets.widgets import Dropdown"
   ]
  }
 ],
 "metadata": {
  "kernelspec": {
   "display_name": "Python 3",
   "language": "python",
   "name": "python3"
  },
  "language_info": {
   "codemirror_mode": {
    "name": "ipython",
    "version": 3
   },
   "file_extension": ".py",
   "mimetype": "text/x-python",
   "name": "python",
   "nbconvert_exporter": "python",
   "pygments_lexer": "ipython3",
   "version": "3.6.7"
  }
 },
 "nbformat": 4,
 "nbformat_minor": 2
}
